{
 "cells": [
  {
   "cell_type": "markdown",
   "metadata": {},
   "source": [
    "# Customer Churn Prediction"
   ]
  },
  {
   "cell_type": "markdown",
   "metadata": {},
   "source": [
    "## Subset Libraries"
   ]
  },
  {
   "cell_type": "code",
   "execution_count": 21,
   "metadata": {},
   "outputs": [],
   "source": [
    "# Basic Libraries\n",
    "import numpy as np\n",
    "import pandas as pd\n",
    "import matplotlib.pyplot as plt\n",
    "import seaborn as sns\n",
    "\n",
    "# Feature Engineering & Prepocessing\n",
    "from sklearn.impute import SimpleImputer\n",
    "from sklearn.preprocessing import StandardScaler, OneHotEncoder\n",
    "import missingno as msno\n",
    "from sklearn.preprocessing import LabelEncoder\n",
    "from sklearn.model_selection import train_test_split, GridSearchCV\n",
    "from imblearn.over_sampling import SMOTE\n",
    "\n",
    "# Model Training\n",
    "from sklearn.ensemble import GradientBoostingClassifier\n",
    "from sklearn.metrics import accuracy_score,precision_score,recall_score,f1_score,ConfusionMatrixDisplay,classification_report\n",
    "#xgboost, svm\n",
    "\n",
    "from sklearn.compose import ColumnTransformer\n",
    "from sklearn.pipeline import Pipeline\n",
    "from sklearn.impute import SimpleImputer\n",
    "from sklearn.preprocessing import StandardScaler, OneHotEncoder\n",
    "from sklearn.tree import DecisionTreeClassifier\n",
    "from sklearn.ensemble import RandomForestClassifier"
   ]
  },
  {
   "cell_type": "markdown",
   "metadata": {},
   "source": [
    "## Subset Data"
   ]
  },
  {
   "cell_type": "code",
   "execution_count": 2,
   "metadata": {},
   "outputs": [],
   "source": [
    "train_df = pd.read_csv(\"https://raw.githubusercontent.com/FahdAby/2-Customer-Churn-Prediction/master/train.csv\")\n",
    "test_df = pd.read_csv(\"https://raw.githubusercontent.com/FahdAby/2-Customer-Churn-Prediction/master/test.csv\")\n"
   ]
  },
  {
   "cell_type": "code",
   "execution_count": 3,
   "metadata": {},
   "outputs": [
    {
     "data": {
      "text/html": [
       "<div>\n",
       "<style scoped>\n",
       "    .dataframe tbody tr th:only-of-type {\n",
       "        vertical-align: middle;\n",
       "    }\n",
       "\n",
       "    .dataframe tbody tr th {\n",
       "        vertical-align: top;\n",
       "    }\n",
       "\n",
       "    .dataframe thead th {\n",
       "        text-align: right;\n",
       "    }\n",
       "</style>\n",
       "<table border=\"1\" class=\"dataframe\">\n",
       "  <thead>\n",
       "    <tr style=\"text-align: right;\">\n",
       "      <th></th>\n",
       "      <th>customer_id</th>\n",
       "      <th>credit_score</th>\n",
       "      <th>country</th>\n",
       "      <th>gender</th>\n",
       "      <th>age</th>\n",
       "      <th>tenure</th>\n",
       "      <th>balance</th>\n",
       "      <th>products_number</th>\n",
       "      <th>credit_card</th>\n",
       "      <th>active_member</th>\n",
       "      <th>estimated_salary</th>\n",
       "      <th>churn</th>\n",
       "    </tr>\n",
       "  </thead>\n",
       "  <tbody>\n",
       "    <tr>\n",
       "      <th>0</th>\n",
       "      <td>15687492</td>\n",
       "      <td>596</td>\n",
       "      <td>jabar</td>\n",
       "      <td>Male</td>\n",
       "      <td>32.0</td>\n",
       "      <td>3.0</td>\n",
       "      <td>150268487.1</td>\n",
       "      <td>2.0</td>\n",
       "      <td>0.0</td>\n",
       "      <td>0.0</td>\n",
       "      <td>6.493161e+07</td>\n",
       "      <td>0</td>\n",
       "    </tr>\n",
       "    <tr>\n",
       "      <th>1</th>\n",
       "      <td>15736963</td>\n",
       "      <td>623</td>\n",
       "      <td>Jawa Timur</td>\n",
       "      <td>Male</td>\n",
       "      <td>43.0</td>\n",
       "      <td>1.0</td>\n",
       "      <td>0.0</td>\n",
       "      <td>2.0</td>\n",
       "      <td>1.0</td>\n",
       "      <td>1.0</td>\n",
       "      <td>2.274471e+08</td>\n",
       "      <td>0</td>\n",
       "    </tr>\n",
       "    <tr>\n",
       "      <th>2</th>\n",
       "      <td>15721730</td>\n",
       "      <td>601</td>\n",
       "      <td>Jawa Tengah</td>\n",
       "      <td>Female</td>\n",
       "      <td>44.0</td>\n",
       "      <td>4.0</td>\n",
       "      <td>0.0</td>\n",
       "      <td>2.0</td>\n",
       "      <td>1.0</td>\n",
       "      <td>0.0</td>\n",
       "      <td>9.099373e+07</td>\n",
       "      <td>0</td>\n",
       "    </tr>\n",
       "    <tr>\n",
       "      <th>3</th>\n",
       "      <td>15762134</td>\n",
       "      <td>506</td>\n",
       "      <td>Jawa Barat</td>\n",
       "      <td>Male</td>\n",
       "      <td>59.0</td>\n",
       "      <td>8.0</td>\n",
       "      <td>185140916.0</td>\n",
       "      <td>2.0</td>\n",
       "      <td>1.0</td>\n",
       "      <td>1.0</td>\n",
       "      <td>2.652056e+08</td>\n",
       "      <td>0</td>\n",
       "    </tr>\n",
       "    <tr>\n",
       "      <th>4</th>\n",
       "      <td>15648898</td>\n",
       "      <td>560</td>\n",
       "      <td>Jawa Tengah</td>\n",
       "      <td>Female</td>\n",
       "      <td>27.0</td>\n",
       "      <td>NaN</td>\n",
       "      <td>194221253.6</td>\n",
       "      <td>1.0</td>\n",
       "      <td>1.0</td>\n",
       "      <td>1.0</td>\n",
       "      <td>1.781762e+08</td>\n",
       "      <td>0</td>\n",
       "    </tr>\n",
       "  </tbody>\n",
       "</table>\n",
       "</div>"
      ],
      "text/plain": [
       "   customer_id  credit_score      country  gender   age  tenure      balance  \\\n",
       "0     15687492           596        jabar    Male  32.0     3.0  150268487.1   \n",
       "1     15736963           623   Jawa Timur    Male  43.0     1.0          0.0   \n",
       "2     15721730           601  Jawa Tengah  Female  44.0     4.0          0.0   \n",
       "3     15762134           506   Jawa Barat    Male  59.0     8.0  185140916.0   \n",
       "4     15648898           560  Jawa Tengah  Female  27.0     NaN  194221253.6   \n",
       "\n",
       "   products_number  credit_card  active_member  estimated_salary  churn  \n",
       "0              2.0          0.0            0.0      6.493161e+07      0  \n",
       "1              2.0          1.0            1.0      2.274471e+08      0  \n",
       "2              2.0          1.0            0.0      9.099373e+07      0  \n",
       "3              2.0          1.0            1.0      2.652056e+08      0  \n",
       "4              1.0          1.0            1.0      1.781762e+08      0  "
      ]
     },
     "execution_count": 3,
     "metadata": {},
     "output_type": "execute_result"
    }
   ],
   "source": [
    "train_df.head()"
   ]
  },
  {
   "cell_type": "code",
   "execution_count": 4,
   "metadata": {},
   "outputs": [
    {
     "name": "stdout",
     "output_type": "stream",
     "text": [
      "<class 'pandas.core.frame.DataFrame'>\n",
      "RangeIndex: 7000 entries, 0 to 6999\n",
      "Data columns (total 12 columns):\n",
      " #   Column            Non-Null Count  Dtype  \n",
      "---  ------            --------------  -----  \n",
      " 0   customer_id       7000 non-null   int64  \n",
      " 1   credit_score      7000 non-null   int64  \n",
      " 2   country           6845 non-null   object \n",
      " 3   gender            7000 non-null   object \n",
      " 4   age               6759 non-null   float64\n",
      " 5   tenure            6712 non-null   float64\n",
      " 6   balance           6883 non-null   float64\n",
      " 7   products_number   6852 non-null   float64\n",
      " 8   credit_card       6841 non-null   float64\n",
      " 9   active_member     6863 non-null   float64\n",
      " 10  estimated_salary  6855 non-null   float64\n",
      " 11  churn             7000 non-null   int64  \n",
      "dtypes: float64(7), int64(3), object(2)\n",
      "memory usage: 656.4+ KB\n"
     ]
    }
   ],
   "source": [
    "train_df.info()"
   ]
  },
  {
   "cell_type": "markdown",
   "metadata": {},
   "source": [
    "## Data Understanding"
   ]
  },
  {
   "cell_type": "markdown",
   "metadata": {},
   "source": [
    "### Daftar Kolom"
   ]
  },
  {
   "cell_type": "code",
   "execution_count": 5,
   "metadata": {},
   "outputs": [],
   "source": [
    "cat_cols = [\"country\", \"products_number\"]\n",
    "bin_cols = [\"gender\", \"credit_card\", \"active_member\"]\n",
    "num_cols = [\"age\", \"tenure\", \"balance\", \"credit_score\", \"estimated_salary\"]"
   ]
  },
  {
   "cell_type": "code",
   "execution_count": 6,
   "metadata": {},
   "outputs": [
    {
     "data": {
      "text/plain": [
       "(7000, 12)"
      ]
     },
     "execution_count": 6,
     "metadata": {},
     "output_type": "execute_result"
    }
   ],
   "source": [
    "train_df.shape"
   ]
  },
  {
   "cell_type": "markdown",
   "metadata": {},
   "source": [
    "### Mengecek Missing Value"
   ]
  },
  {
   "cell_type": "code",
   "execution_count": 7,
   "metadata": {},
   "outputs": [
    {
     "name": "stdout",
     "output_type": "stream",
     "text": [
      "---Check Keberadaan NaN---\n",
      "customer_id         False\n",
      "credit_score        False\n",
      "country              True\n",
      "gender              False\n",
      "age                  True\n",
      "tenure               True\n",
      "balance              True\n",
      "products_number      True\n",
      "credit_card          True\n",
      "active_member        True\n",
      "estimated_salary     True\n",
      "churn               False\n",
      "dtype: bool\n",
      "---Check JUmlah NaN---\n",
      "customer_id           0\n",
      "credit_score          0\n",
      "country             155\n",
      "gender                0\n",
      "age                 241\n",
      "tenure              288\n",
      "balance             117\n",
      "products_number     148\n",
      "credit_card         159\n",
      "active_member       137\n",
      "estimated_salary    145\n",
      "churn                 0\n",
      "dtype: int64\n"
     ]
    }
   ],
   "source": [
    "print(\"---Check Keberadaan NaN---\")\n",
    "print(train_df.isnull().any())\n",
    "print(\"---Check JUmlah NaN---\")\n",
    "print(train_df.isnull().sum())"
   ]
  },
  {
   "cell_type": "code",
   "execution_count": 8,
   "metadata": {},
   "outputs": [
    {
     "data": {
      "text/plain": [
       "<Axes: >"
      ]
     },
     "execution_count": 8,
     "metadata": {},
     "output_type": "execute_result"
    },
    {
     "data": {
      "image/png": "[encoded data removed]",
      "text/plain": [
       "<Figure size 2500x1000 with 2 Axes>"
      ]
     },
     "metadata": {},
     "output_type": "display_data"
    }
   ],
   "source": [
    "msno.matrix(train_df)"
   ]
  },
  {
   "cell_type": "markdown",
   "metadata": {},
   "source": [
    "Catatan :\n",
    "\n",
    "Fungsi msno.matrix(train_df) digunakan untuk membuat matriks visualisasi yang menunjukkan keberadaan nilai yang hilang (missing values) dalam DataFrame train_df. Visualisasi ini memungkinkan pengguna untuk dengan cepat memahami pola kekosongan nilai dalam data mereka."
   ]
  },
  {
   "cell_type": "markdown",
   "metadata": {},
   "source": [
    "### Mengecek Jumlah Unique Value pada setiap Kolom"
   ]
  },
  {
   "cell_type": "code",
   "execution_count": 9,
   "metadata": {},
   "outputs": [
    {
     "name": "stdout",
     "output_type": "stream",
     "text": [
      "---Jumlah Unique Value pada setiap Kolom---\n"
     ]
    },
    {
     "data": {
      "text/plain": [
       "customer_id         7000\n",
       "credit_score         453\n",
       "country                9\n",
       "gender                 2\n",
       "age                   70\n",
       "tenure                11\n",
       "balance             4400\n",
       "products_number        4\n",
       "credit_card            2\n",
       "active_member          2\n",
       "estimated_salary    6854\n",
       "churn                  2\n",
       "dtype: int64"
      ]
     },
     "execution_count": 9,
     "metadata": {},
     "output_type": "execute_result"
    }
   ],
   "source": [
    "print(\"---Jumlah Unique Value pada setiap Kolom---\")\n",
    "train_df.nunique()"
   ]
  },
  {
   "cell_type": "markdown",
   "metadata": {},
   "source": [
    "### Mengecek Data Duplicate"
   ]
  },
  {
   "cell_type": "code",
   "execution_count": 10,
   "metadata": {},
   "outputs": [
    {
     "name": "stdout",
     "output_type": "stream",
     "text": [
      "---Mengecek Data Duplikat---\n"
     ]
    },
    {
     "data": {
      "text/plain": [
       "0"
      ]
     },
     "execution_count": 10,
     "metadata": {},
     "output_type": "execute_result"
    }
   ],
   "source": [
    "print(\"---Mengecek Data Duplikat---\")\n",
    "train_df.duplicated().sum()"
   ]
  },
  {
   "cell_type": "markdown",
   "metadata": {},
   "source": [
    "### Statistika Deskripsi Data"
   ]
  },
  {
   "cell_type": "code",
   "execution_count": 11,
   "metadata": {},
   "outputs": [
    {
     "data": {
      "text/html": [
       "<div>\n",
       "<style scoped>\n",
       "    .dataframe tbody tr th:only-of-type {\n",
       "        vertical-align: middle;\n",
       "    }\n",
       "\n",
       "    .dataframe tbody tr th {\n",
       "        vertical-align: top;\n",
       "    }\n",
       "\n",
       "    .dataframe thead th {\n",
       "        text-align: right;\n",
       "    }\n",
       "</style>\n",
       "<table border=\"1\" class=\"dataframe\">\n",
       "  <thead>\n",
       "    <tr style=\"text-align: right;\">\n",
       "      <th></th>\n",
       "      <th>customer_id</th>\n",
       "      <th>credit_score</th>\n",
       "      <th>age</th>\n",
       "      <th>tenure</th>\n",
       "      <th>balance</th>\n",
       "      <th>products_number</th>\n",
       "      <th>credit_card</th>\n",
       "      <th>active_member</th>\n",
       "      <th>estimated_salary</th>\n",
       "      <th>churn</th>\n",
       "    </tr>\n",
       "  </thead>\n",
       "  <tbody>\n",
       "    <tr>\n",
       "      <th>count</th>\n",
       "      <td>7.000000e+03</td>\n",
       "      <td>7000.000000</td>\n",
       "      <td>6759.000000</td>\n",
       "      <td>6712.000000</td>\n",
       "      <td>6.883000e+03</td>\n",
       "      <td>6852.000000</td>\n",
       "      <td>6841.000000</td>\n",
       "      <td>6863.000000</td>\n",
       "      <td>6.855000e+03</td>\n",
       "      <td>7000.000000</td>\n",
       "    </tr>\n",
       "    <tr>\n",
       "      <th>mean</th>\n",
       "      <td>1.569149e+07</td>\n",
       "      <td>649.979714</td>\n",
       "      <td>38.902500</td>\n",
       "      <td>5.050805</td>\n",
       "      <td>1.289241e+08</td>\n",
       "      <td>1.537215</td>\n",
       "      <td>0.702529</td>\n",
       "      <td>0.512312</td>\n",
       "      <td>1.674342e+08</td>\n",
       "      <td>0.201429</td>\n",
       "    </tr>\n",
       "    <tr>\n",
       "      <th>std</th>\n",
       "      <td>7.230107e+04</td>\n",
       "      <td>97.154616</td>\n",
       "      <td>10.478227</td>\n",
       "      <td>2.898514</td>\n",
       "      <td>1.396340e+08</td>\n",
       "      <td>0.582616</td>\n",
       "      <td>0.457179</td>\n",
       "      <td>0.499885</td>\n",
       "      <td>1.456601e+08</td>\n",
       "      <td>0.401096</td>\n",
       "    </tr>\n",
       "    <tr>\n",
       "      <th>min</th>\n",
       "      <td>1.556570e+07</td>\n",
       "      <td>350.000000</td>\n",
       "      <td>18.000000</td>\n",
       "      <td>0.000000</td>\n",
       "      <td>0.000000e+00</td>\n",
       "      <td>1.000000</td>\n",
       "      <td>0.000000</td>\n",
       "      <td>0.000000</td>\n",
       "      <td>1.799324e+04</td>\n",
       "      <td>0.000000</td>\n",
       "    </tr>\n",
       "    <tr>\n",
       "      <th>25%</th>\n",
       "      <td>1.562885e+07</td>\n",
       "      <td>583.000000</td>\n",
       "      <td>32.000000</td>\n",
       "      <td>3.000000</td>\n",
       "      <td>0.000000e+00</td>\n",
       "      <td>1.000000</td>\n",
       "      <td>0.000000</td>\n",
       "      <td>0.000000</td>\n",
       "      <td>7.940980e+07</td>\n",
       "      <td>0.000000</td>\n",
       "    </tr>\n",
       "    <tr>\n",
       "      <th>50%</th>\n",
       "      <td>1.569116e+07</td>\n",
       "      <td>652.000000</td>\n",
       "      <td>37.000000</td>\n",
       "      <td>5.000000</td>\n",
       "      <td>1.520481e+08</td>\n",
       "      <td>1.000000</td>\n",
       "      <td>1.000000</td>\n",
       "      <td>1.000000</td>\n",
       "      <td>1.563378e+08</td>\n",
       "      <td>0.000000</td>\n",
       "    </tr>\n",
       "    <tr>\n",
       "      <th>75%</th>\n",
       "      <td>1.575454e+07</td>\n",
       "      <td>717.000000</td>\n",
       "      <td>44.000000</td>\n",
       "      <td>8.000000</td>\n",
       "      <td>1.992249e+08</td>\n",
       "      <td>2.000000</td>\n",
       "      <td>1.000000</td>\n",
       "      <td>1.000000</td>\n",
       "      <td>2.325842e+08</td>\n",
       "      <td>0.000000</td>\n",
       "    </tr>\n",
       "    <tr>\n",
       "      <th>max</th>\n",
       "      <td>1.581569e+07</td>\n",
       "      <td>850.000000</td>\n",
       "      <td>92.000000</td>\n",
       "      <td>10.000000</td>\n",
       "      <td>1.712257e+09</td>\n",
       "      <td>4.000000</td>\n",
       "      <td>1.000000</td>\n",
       "      <td>1.000000</td>\n",
       "      <td>1.606589e+09</td>\n",
       "      <td>1.000000</td>\n",
       "    </tr>\n",
       "  </tbody>\n",
       "</table>\n",
       "</div>"
      ],
      "text/plain": [
       "        customer_id  credit_score          age       tenure       balance  \\\n",
       "count  7.000000e+03   7000.000000  6759.000000  6712.000000  6.883000e+03   \n",
       "mean   1.569149e+07    649.979714    38.902500     5.050805  1.289241e+08   \n",
       "std    7.230107e+04     97.154616    10.478227     2.898514  1.396340e+08   \n",
       "min    1.556570e+07    350.000000    18.000000     0.000000  0.000000e+00   \n",
       "25%    1.562885e+07    583.000000    32.000000     3.000000  0.000000e+00   \n",
       "50%    1.569116e+07    652.000000    37.000000     5.000000  1.520481e+08   \n",
       "75%    1.575454e+07    717.000000    44.000000     8.000000  1.992249e+08   \n",
       "max    1.581569e+07    850.000000    92.000000    10.000000  1.712257e+09   \n",
       "\n",
       "       products_number  credit_card  active_member  estimated_salary  \\\n",
       "count      6852.000000  6841.000000    6863.000000      6.855000e+03   \n",
       "mean          1.537215     0.702529       0.512312      1.674342e+08   \n",
       "std           0.582616     0.457179       0.499885      1.456601e+08   \n",
       "min           1.000000     0.000000       0.000000      1.799324e+04   \n",
       "25%           1.000000     0.000000       0.000000      7.940980e+07   \n",
       "50%           1.000000     1.000000       1.000000      1.563378e+08   \n",
       "75%           2.000000     1.000000       1.000000      2.325842e+08   \n",
       "max           4.000000     1.000000       1.000000      1.606589e+09   \n",
       "\n",
       "             churn  \n",
       "count  7000.000000  \n",
       "mean      0.201429  \n",
       "std       0.401096  \n",
       "min       0.000000  \n",
       "25%       0.000000  \n",
       "50%       0.000000  \n",
       "75%       0.000000  \n",
       "max       1.000000  "
      ]
     },
     "execution_count": 11,
     "metadata": {},
     "output_type": "execute_result"
    }
   ],
   "source": [
    "train_df.describe()"
   ]
  },
  {
   "cell_type": "markdown",
   "metadata": {},
   "source": [
    "### Understanding Kolom Kategorik"
   ]
  },
  {
   "cell_type": "code",
   "execution_count": 12,
   "metadata": {},
   "outputs": [
    {
     "name": "stdout",
     "output_type": "stream",
     "text": [
      "-- Gender --\n"
     ]
    },
    {
     "data": {
      "text/plain": [
       "gender\n",
       "Male      3774\n",
       "Female    3226\n",
       "Name: count, dtype: int64"
      ]
     },
     "execution_count": 12,
     "metadata": {},
     "output_type": "execute_result"
    }
   ],
   "source": [
    "print(\"-- Gender --\")\n",
    "train_df.gender.value_counts()"
   ]
  },
  {
   "cell_type": "code",
   "execution_count": 13,
   "metadata": {},
   "outputs": [
    {
     "name": "stdout",
     "output_type": "stream",
     "text": [
      "-- Country --\n"
     ]
    },
    {
     "data": {
      "text/plain": [
       "country\n",
       "Jawa Timur     2758\n",
       "Jawa Barat     1414\n",
       "Jawa Tengah    1336\n",
       "jatim           337\n",
       "jawatimur       329\n",
       "jawatengah      175\n",
       "jawabarat       174\n",
       "jabar           161\n",
       "jateng          161\n",
       "Name: count, dtype: int64"
      ]
     },
     "execution_count": 13,
     "metadata": {},
     "output_type": "execute_result"
    }
   ],
   "source": [
    "print(\"-- Country --\")\n",
    "train_df.country.value_counts()"
   ]
  },
  {
   "cell_type": "markdown",
   "metadata": {},
   "source": [
    "Catatan : \n",
    "\n",
    "Terdapat bermacam-macam provinsi yang sebenarnya merupakan provinsi yang sama"
   ]
  },
  {
   "cell_type": "markdown",
   "metadata": {},
   "source": [
    "### Understanding Kolom Binari"
   ]
  },
  {
   "cell_type": "code",
   "execution_count": 14,
   "metadata": {},
   "outputs": [
    {
     "data": {
      "image/png": "[encoded data removed]",
      "text/plain": [
       "<Figure size 500x400 with 1 Axes>"
      ]
     },
     "metadata": {},
     "output_type": "display_data"
    }
   ],
   "source": [
    "plt.figure(figsize=(5,4))\n",
    "sns.countplot(data=train_df, x=train_df[\"gender\"], color=\"blue\")\n",
    "plt.show()"
   ]
  },
  {
   "cell_type": "code",
   "execution_count": 15,
   "metadata": {},
   "outputs": [
    {
     "data": {
      "image/png": "[encoded data removed]",
      "text/plain": [
       "<Figure size 500x400 with 1 Axes>"
      ]
     },
     "metadata": {},
     "output_type": "display_data"
    }
   ],
   "source": [
    "plt.figure(figsize=(5,4))\n",
    "sns.countplot(data=train_df, x=train_df[\"churn\"], color=\"red\")\n",
    "plt.show()"
   ]
  },
  {
   "cell_type": "markdown",
   "metadata": {},
   "source": [
    "### Understanding Kolom Numerik"
   ]
  },
  {
   "cell_type": "markdown",
   "metadata": {},
   "source": [
    "#### Boxplot pada setiap kolom"
   ]
  },
  {
   "cell_type": "code",
   "execution_count": 16,
   "metadata": {},
   "outputs": [
    {
     "data": {
      "image/png": "[encoded data removed]",
      "text/plain": [
       "<Figure size 640x480 with 5 Axes>"
      ]
     },
     "metadata": {},
     "output_type": "display_data"
    }
   ],
   "source": [
    "# Create the figure and two subplots\n",
    "fig, axes = plt.subplots(ncols=len(num_cols))\n",
    "\n",
    "# Create the boxplot with Seaborn\n",
    "for column, axis in zip(num_cols, axes):\n",
    "        sns.boxplot(data=train_df[column], ax=axis)\n",
    "        axis.set_title(column)\n",
    "        # axis.set(xticklabels=[], xticks=[], ylabel=column)\n",
    "\n",
    "# Show the plot\n",
    "plt.tight_layout()\n",
    "plt.show()"
   ]
  },
  {
   "cell_type": "markdown",
   "metadata": {},
   "source": [
    "Terdapat outliers yang sangat banyak pada variabel *balance*, *estimated_salary*, dan *age*.\n",
    "\n",
    "Mungkin perlu dilakukan handling pada variabel-variabel tersebut"
   ]
  },
  {
   "cell_type": "markdown",
   "metadata": {},
   "source": [
    "#### Korelasi Antar Variabel Numerik"
   ]
  },
  {
   "cell_type": "code",
   "execution_count": 17,
   "metadata": {},
   "outputs": [
    {
     "data": {
      "image/png": "[encoded data removed]",
      "text/plain": [
       "<Figure size 800x500 with 2 Axes>"
      ]
     },
     "metadata": {},
     "output_type": "display_data"
    }
   ],
   "source": [
    "# Lets plot the correlation matrix\n",
    "train_df_num = train_df[num_cols]\n",
    "plt.figure(figsize=(8,5))\n",
    "sns.heatmap(train_df_num.corr(), annot=True, fmt=\".2f\", cmap=\"coolwarm\")\n",
    "plt.show()"
   ]
  },
  {
   "cell_type": "markdown",
   "metadata": {},
   "source": [
    "## Splitting Data"
   ]
  },
  {
   "cell_type": "code",
   "execution_count": 18,
   "metadata": {},
   "outputs": [],
   "source": [
    "from sklearn.model_selection import train_test_split\n",
    "\n",
    "def train_test_split_data(dataframe, test_size, random_state):\n",
    "    x_train, x_test = train_test_split(dataframe, test_size=test_size, random_state=random_state)\n",
    "    return x_train, x_test\n",
    "\n",
    "# Contoh penggunaan:\n",
    "train, test = train_test_split_data(dataframe=train_df, test_size=0.3, random_state=42)"
   ]
  },
  {
   "cell_type": "code",
   "execution_count": 19,
   "metadata": {},
   "outputs": [
    {
     "data": {
      "text/html": [
       "<div>\n",
       "<style scoped>\n",
       "    .dataframe tbody tr th:only-of-type {\n",
       "        vertical-align: middle;\n",
       "    }\n",
       "\n",
       "    .dataframe tbody tr th {\n",
       "        vertical-align: top;\n",
       "    }\n",
       "\n",
       "    .dataframe thead th {\n",
       "        text-align: right;\n",
       "    }\n",
       "</style>\n",
       "<table border=\"1\" class=\"dataframe\">\n",
       "  <thead>\n",
       "    <tr style=\"text-align: right;\">\n",
       "      <th></th>\n",
       "      <th>customer_id</th>\n",
       "      <th>credit_score</th>\n",
       "      <th>country</th>\n",
       "      <th>gender</th>\n",
       "      <th>age</th>\n",
       "      <th>tenure</th>\n",
       "      <th>balance</th>\n",
       "      <th>products_number</th>\n",
       "      <th>credit_card</th>\n",
       "      <th>active_member</th>\n",
       "      <th>estimated_salary</th>\n",
       "      <th>churn</th>\n",
       "    </tr>\n",
       "  </thead>\n",
       "  <tbody>\n",
       "    <tr>\n",
       "      <th>1612</th>\n",
       "      <td>15688691</td>\n",
       "      <td>665</td>\n",
       "      <td>Jawa Barat</td>\n",
       "      <td>Female</td>\n",
       "      <td>51.0</td>\n",
       "      <td>9.0</td>\n",
       "      <td>1.718687e+08</td>\n",
       "      <td>2.0</td>\n",
       "      <td>0.0</td>\n",
       "      <td>1.0</td>\n",
       "      <td>1.729029e+06</td>\n",
       "      <td>1</td>\n",
       "    </tr>\n",
       "    <tr>\n",
       "      <th>978</th>\n",
       "      <td>15716619</td>\n",
       "      <td>580</td>\n",
       "      <td>Jawa Barat</td>\n",
       "      <td>Female</td>\n",
       "      <td>36.0</td>\n",
       "      <td>3.0</td>\n",
       "      <td>1.164975e+08</td>\n",
       "      <td>1.0</td>\n",
       "      <td>1.0</td>\n",
       "      <td>1.0</td>\n",
       "      <td>1.880071e+07</td>\n",
       "      <td>0</td>\n",
       "    </tr>\n",
       "    <tr>\n",
       "      <th>3050</th>\n",
       "      <td>15676571</td>\n",
       "      <td>850</td>\n",
       "      <td>Jawa Timur</td>\n",
       "      <td>Male</td>\n",
       "      <td>55.0</td>\n",
       "      <td>6.0</td>\n",
       "      <td>0.000000e+00</td>\n",
       "      <td>1.0</td>\n",
       "      <td>1.0</td>\n",
       "      <td>0.0</td>\n",
       "      <td>1.467443e+06</td>\n",
       "      <td>1</td>\n",
       "    </tr>\n",
       "    <tr>\n",
       "      <th>4960</th>\n",
       "      <td>15815125</td>\n",
       "      <td>668</td>\n",
       "      <td>Jawa Tengah</td>\n",
       "      <td>Male</td>\n",
       "      <td>45.0</td>\n",
       "      <td>4.0</td>\n",
       "      <td>1.592451e+08</td>\n",
       "      <td>2.0</td>\n",
       "      <td>1.0</td>\n",
       "      <td>1.0</td>\n",
       "      <td>2.460928e+08</td>\n",
       "      <td>0</td>\n",
       "    </tr>\n",
       "    <tr>\n",
       "      <th>2548</th>\n",
       "      <td>15769948</td>\n",
       "      <td>737</td>\n",
       "      <td>jawabarat</td>\n",
       "      <td>Male</td>\n",
       "      <td>35.0</td>\n",
       "      <td>0.0</td>\n",
       "      <td>1.071457e+09</td>\n",
       "      <td>1.0</td>\n",
       "      <td>0.0</td>\n",
       "      <td>1.0</td>\n",
       "      <td>9.952247e+07</td>\n",
       "      <td>0</td>\n",
       "    </tr>\n",
       "  </tbody>\n",
       "</table>\n",
       "</div>"
      ],
      "text/plain": [
       "      customer_id  credit_score      country  gender   age  tenure  \\\n",
       "1612     15688691           665   Jawa Barat  Female  51.0     9.0   \n",
       "978      15716619           580   Jawa Barat  Female  36.0     3.0   \n",
       "3050     15676571           850   Jawa Timur    Male  55.0     6.0   \n",
       "4960     15815125           668  Jawa Tengah    Male  45.0     4.0   \n",
       "2548     15769948           737    jawabarat    Male  35.0     0.0   \n",
       "\n",
       "           balance  products_number  credit_card  active_member  \\\n",
       "1612  1.718687e+08              2.0          0.0            1.0   \n",
       "978   1.164975e+08              1.0          1.0            1.0   \n",
       "3050  0.000000e+00              1.0          1.0            0.0   \n",
       "4960  1.592451e+08              2.0          1.0            1.0   \n",
       "2548  1.071457e+09              1.0          0.0            1.0   \n",
       "\n",
       "      estimated_salary  churn  \n",
       "1612      1.729029e+06      1  \n",
       "978       1.880071e+07      0  \n",
       "3050      1.467443e+06      1  \n",
       "4960      2.460928e+08      0  \n",
       "2548      9.952247e+07      0  "
      ]
     },
     "execution_count": 19,
     "metadata": {},
     "output_type": "execute_result"
    }
   ],
   "source": [
    "train.head()"
   ]
  },
  {
   "cell_type": "markdown",
   "metadata": {},
   "source": [
    "## Preprosesing"
   ]
  },
  {
   "cell_type": "markdown",
   "metadata": {},
   "source": [
    "### Data Cleaning dengan Pipeline"
   ]
  },
  {
   "cell_type": "code",
   "execution_count": 22,
   "metadata": {},
   "outputs": [],
   "source": [
    "# Data Cleaning\n",
    "\n",
    "cat_cols = ['country', 'gender']\n",
    "bin_cols = ['credit_card', 'active_member'] #churn = target\n",
    "num_cols = ['age', 'tenure', 'balance', 'credit_score', 'estimated_salary', 'products_number']\n",
    "\n",
    "categorical_pipeline = Pipeline([\n",
    "    ('imputer', SimpleImputer(strategy='most_frequent')),\n",
    "    ('onehot', OneHotEncoder())\n",
    "])\n",
    "\n",
    "binary_pipeline = Pipeline([\n",
    "    ('imputer', SimpleImputer(strategy='most_frequent'))\n",
    "])\n",
    "\n",
    "numeric_pipeline = Pipeline([\n",
    "    ('imputer', SimpleImputer(strategy='median')),\n",
    "    ('scaler', StandardScaler())\n",
    "])\n",
    "\n",
    "preprocessor = ColumnTransformer(\n",
    "    transformers=[\n",
    "        ('namarandombuatkategori', categorical_pipeline, cat_cols),\n",
    "        ('binary', binary_pipeline, bin_cols),\n",
    "        ('num', numeric_pipeline, num_cols),\n",
    "        ('drop_col', 'drop', \"customer_id\")\n",
    "        # ('pass', 'passthrough', pass_cols)\n",
    "    ],\n",
    "    remainder='passthrough'\n",
    ")\n",
    "\n",
    "pipeline_with_model = Pipeline([\n",
    "    ('prepro', preprocessor),\n",
    "    ('model', RandomForestClassifier(random_state=3))\n",
    "])"
   ]
  },
  {
   "cell_type": "code",
   "execution_count": 24,
   "metadata": {},
   "outputs": [],
   "source": [
    "cat_pipe_result = pd.DataFrame(categorical_pipeline.fit_transform(train[[\"country\"]]).toarray(), columns = categorical_pipeline.get_feature_names_out())"
   ]
  },
  {
   "cell_type": "code",
   "execution_count": 26,
   "metadata": {},
   "outputs": [],
   "source": [
    "cat_pipe_result[\"asli\"] = train[\"country\"].reset_index(drop=True)"
   ]
  },
  {
   "cell_type": "code",
   "execution_count": 27,
   "metadata": {},
   "outputs": [
    {
     "data": {
      "text/html": [
       "<div>\n",
       "<style scoped>\n",
       "    .dataframe tbody tr th:only-of-type {\n",
       "        vertical-align: middle;\n",
       "    }\n",
       "\n",
       "    .dataframe tbody tr th {\n",
       "        vertical-align: top;\n",
       "    }\n",
       "\n",
       "    .dataframe thead th {\n",
       "        text-align: right;\n",
       "    }\n",
       "</style>\n",
       "<table border=\"1\" class=\"dataframe\">\n",
       "  <thead>\n",
       "    <tr style=\"text-align: right;\">\n",
       "      <th></th>\n",
       "      <th>country_Jawa Barat</th>\n",
       "      <th>country_Jawa Tengah</th>\n",
       "      <th>country_Jawa Timur</th>\n",
       "      <th>country_jabar</th>\n",
       "      <th>country_jateng</th>\n",
       "      <th>country_jatim</th>\n",
       "      <th>country_jawabarat</th>\n",
       "      <th>country_jawatengah</th>\n",
       "      <th>country_jawatimur</th>\n",
       "      <th>asli</th>\n",
       "    </tr>\n",
       "  </thead>\n",
       "  <tbody>\n",
       "    <tr>\n",
       "      <th>0</th>\n",
       "      <td>1.0</td>\n",
       "      <td>0.0</td>\n",
       "      <td>0.0</td>\n",
       "      <td>0.0</td>\n",
       "      <td>0.0</td>\n",
       "      <td>0.0</td>\n",
       "      <td>0.0</td>\n",
       "      <td>0.0</td>\n",
       "      <td>0.0</td>\n",
       "      <td>Jawa Barat</td>\n",
       "    </tr>\n",
       "    <tr>\n",
       "      <th>1</th>\n",
       "      <td>1.0</td>\n",
       "      <td>0.0</td>\n",
       "      <td>0.0</td>\n",
       "      <td>0.0</td>\n",
       "      <td>0.0</td>\n",
       "      <td>0.0</td>\n",
       "      <td>0.0</td>\n",
       "      <td>0.0</td>\n",
       "      <td>0.0</td>\n",
       "      <td>Jawa Barat</td>\n",
       "    </tr>\n",
       "    <tr>\n",
       "      <th>2</th>\n",
       "      <td>0.0</td>\n",
       "      <td>0.0</td>\n",
       "      <td>1.0</td>\n",
       "      <td>0.0</td>\n",
       "      <td>0.0</td>\n",
       "      <td>0.0</td>\n",
       "      <td>0.0</td>\n",
       "      <td>0.0</td>\n",
       "      <td>0.0</td>\n",
       "      <td>Jawa Timur</td>\n",
       "    </tr>\n",
       "    <tr>\n",
       "      <th>3</th>\n",
       "      <td>0.0</td>\n",
       "      <td>1.0</td>\n",
       "      <td>0.0</td>\n",
       "      <td>0.0</td>\n",
       "      <td>0.0</td>\n",
       "      <td>0.0</td>\n",
       "      <td>0.0</td>\n",
       "      <td>0.0</td>\n",
       "      <td>0.0</td>\n",
       "      <td>Jawa Tengah</td>\n",
       "    </tr>\n",
       "    <tr>\n",
       "      <th>4</th>\n",
       "      <td>0.0</td>\n",
       "      <td>0.0</td>\n",
       "      <td>0.0</td>\n",
       "      <td>0.0</td>\n",
       "      <td>0.0</td>\n",
       "      <td>0.0</td>\n",
       "      <td>1.0</td>\n",
       "      <td>0.0</td>\n",
       "      <td>0.0</td>\n",
       "      <td>jawabarat</td>\n",
       "    </tr>\n",
       "    <tr>\n",
       "      <th>...</th>\n",
       "      <td>...</td>\n",
       "      <td>...</td>\n",
       "      <td>...</td>\n",
       "      <td>...</td>\n",
       "      <td>...</td>\n",
       "      <td>...</td>\n",
       "      <td>...</td>\n",
       "      <td>...</td>\n",
       "      <td>...</td>\n",
       "      <td>...</td>\n",
       "    </tr>\n",
       "    <tr>\n",
       "      <th>4895</th>\n",
       "      <td>0.0</td>\n",
       "      <td>0.0</td>\n",
       "      <td>0.0</td>\n",
       "      <td>0.0</td>\n",
       "      <td>1.0</td>\n",
       "      <td>0.0</td>\n",
       "      <td>0.0</td>\n",
       "      <td>0.0</td>\n",
       "      <td>0.0</td>\n",
       "      <td>jateng</td>\n",
       "    </tr>\n",
       "    <tr>\n",
       "      <th>4896</th>\n",
       "      <td>0.0</td>\n",
       "      <td>0.0</td>\n",
       "      <td>1.0</td>\n",
       "      <td>0.0</td>\n",
       "      <td>0.0</td>\n",
       "      <td>0.0</td>\n",
       "      <td>0.0</td>\n",
       "      <td>0.0</td>\n",
       "      <td>0.0</td>\n",
       "      <td>Jawa Timur</td>\n",
       "    </tr>\n",
       "    <tr>\n",
       "      <th>4897</th>\n",
       "      <td>0.0</td>\n",
       "      <td>0.0</td>\n",
       "      <td>0.0</td>\n",
       "      <td>0.0</td>\n",
       "      <td>0.0</td>\n",
       "      <td>0.0</td>\n",
       "      <td>0.0</td>\n",
       "      <td>0.0</td>\n",
       "      <td>1.0</td>\n",
       "      <td>jawatimur</td>\n",
       "    </tr>\n",
       "    <tr>\n",
       "      <th>4898</th>\n",
       "      <td>1.0</td>\n",
       "      <td>0.0</td>\n",
       "      <td>0.0</td>\n",
       "      <td>0.0</td>\n",
       "      <td>0.0</td>\n",
       "      <td>0.0</td>\n",
       "      <td>0.0</td>\n",
       "      <td>0.0</td>\n",
       "      <td>0.0</td>\n",
       "      <td>Jawa Barat</td>\n",
       "    </tr>\n",
       "    <tr>\n",
       "      <th>4899</th>\n",
       "      <td>1.0</td>\n",
       "      <td>0.0</td>\n",
       "      <td>0.0</td>\n",
       "      <td>0.0</td>\n",
       "      <td>0.0</td>\n",
       "      <td>0.0</td>\n",
       "      <td>0.0</td>\n",
       "      <td>0.0</td>\n",
       "      <td>0.0</td>\n",
       "      <td>Jawa Barat</td>\n",
       "    </tr>\n",
       "  </tbody>\n",
       "</table>\n",
       "<p>4900 rows × 10 columns</p>\n",
       "</div>"
      ],
      "text/plain": [
       "      country_Jawa Barat  country_Jawa Tengah  country_Jawa Timur  \\\n",
       "0                    1.0                  0.0                 0.0   \n",
       "1                    1.0                  0.0                 0.0   \n",
       "2                    0.0                  0.0                 1.0   \n",
       "3                    0.0                  1.0                 0.0   \n",
       "4                    0.0                  0.0                 0.0   \n",
       "...                  ...                  ...                 ...   \n",
       "4895                 0.0                  0.0                 0.0   \n",
       "4896                 0.0                  0.0                 1.0   \n",
       "4897                 0.0                  0.0                 0.0   \n",
       "4898                 1.0                  0.0                 0.0   \n",
       "4899                 1.0                  0.0                 0.0   \n",
       "\n",
       "      country_jabar  country_jateng  country_jatim  country_jawabarat  \\\n",
       "0               0.0             0.0            0.0                0.0   \n",
       "1               0.0             0.0            0.0                0.0   \n",
       "2               0.0             0.0            0.0                0.0   \n",
       "3               0.0             0.0            0.0                0.0   \n",
       "4               0.0             0.0            0.0                1.0   \n",
       "...             ...             ...            ...                ...   \n",
       "4895            0.0             1.0            0.0                0.0   \n",
       "4896            0.0             0.0            0.0                0.0   \n",
       "4897            0.0             0.0            0.0                0.0   \n",
       "4898            0.0             0.0            0.0                0.0   \n",
       "4899            0.0             0.0            0.0                0.0   \n",
       "\n",
       "      country_jawatengah  country_jawatimur         asli  \n",
       "0                    0.0                0.0   Jawa Barat  \n",
       "1                    0.0                0.0   Jawa Barat  \n",
       "2                    0.0                0.0   Jawa Timur  \n",
       "3                    0.0                0.0  Jawa Tengah  \n",
       "4                    0.0                0.0    jawabarat  \n",
       "...                  ...                ...          ...  \n",
       "4895                 0.0                0.0       jateng  \n",
       "4896                 0.0                0.0   Jawa Timur  \n",
       "4897                 0.0                1.0    jawatimur  \n",
       "4898                 0.0                0.0   Jawa Barat  \n",
       "4899                 0.0                0.0   Jawa Barat  \n",
       "\n",
       "[4900 rows x 10 columns]"
      ]
     },
     "execution_count": 27,
     "metadata": {},
     "output_type": "execute_result"
    }
   ],
   "source": [
    "cat_pipe_result"
   ]
  },
  {
   "cell_type": "code",
   "execution_count": 28,
   "metadata": {},
   "outputs": [],
   "source": [
    "num_pipe_result = pd.DataFrame(numeric_pipeline.fit_transform(train[num_cols]), columns = numeric_pipeline.get_feature_names_out())"
   ]
  },
  {
   "cell_type": "code",
   "execution_count": 30,
   "metadata": {},
   "outputs": [
    {
     "data": {
      "text/html": [
       "<div>\n",
       "<style scoped>\n",
       "    .dataframe tbody tr th:only-of-type {\n",
       "        vertical-align: middle;\n",
       "    }\n",
       "\n",
       "    .dataframe tbody tr th {\n",
       "        vertical-align: top;\n",
       "    }\n",
       "\n",
       "    .dataframe thead th {\n",
       "        text-align: right;\n",
       "    }\n",
       "</style>\n",
       "<table border=\"1\" class=\"dataframe\">\n",
       "  <thead>\n",
       "    <tr style=\"text-align: right;\">\n",
       "      <th></th>\n",
       "      <th>age</th>\n",
       "      <th>tenure</th>\n",
       "      <th>balance</th>\n",
       "      <th>credit_score</th>\n",
       "      <th>estimated_salary</th>\n",
       "      <th>products_number</th>\n",
       "    </tr>\n",
       "  </thead>\n",
       "  <tbody>\n",
       "    <tr>\n",
       "      <th>1612</th>\n",
       "      <td>51.0</td>\n",
       "      <td>9.0</td>\n",
       "      <td>1.718687e+08</td>\n",
       "      <td>665</td>\n",
       "      <td>1.729029e+06</td>\n",
       "      <td>2.0</td>\n",
       "    </tr>\n",
       "    <tr>\n",
       "      <th>978</th>\n",
       "      <td>36.0</td>\n",
       "      <td>3.0</td>\n",
       "      <td>1.164975e+08</td>\n",
       "      <td>580</td>\n",
       "      <td>1.880071e+07</td>\n",
       "      <td>1.0</td>\n",
       "    </tr>\n",
       "    <tr>\n",
       "      <th>3050</th>\n",
       "      <td>55.0</td>\n",
       "      <td>6.0</td>\n",
       "      <td>0.000000e+00</td>\n",
       "      <td>850</td>\n",
       "      <td>1.467443e+06</td>\n",
       "      <td>1.0</td>\n",
       "    </tr>\n",
       "    <tr>\n",
       "      <th>4960</th>\n",
       "      <td>45.0</td>\n",
       "      <td>4.0</td>\n",
       "      <td>1.592451e+08</td>\n",
       "      <td>668</td>\n",
       "      <td>2.460928e+08</td>\n",
       "      <td>2.0</td>\n",
       "    </tr>\n",
       "    <tr>\n",
       "      <th>2548</th>\n",
       "      <td>35.0</td>\n",
       "      <td>0.0</td>\n",
       "      <td>1.071457e+09</td>\n",
       "      <td>737</td>\n",
       "      <td>9.952247e+07</td>\n",
       "      <td>1.0</td>\n",
       "    </tr>\n",
       "    <tr>\n",
       "      <th>...</th>\n",
       "      <td>...</td>\n",
       "      <td>...</td>\n",
       "      <td>...</td>\n",
       "      <td>...</td>\n",
       "      <td>...</td>\n",
       "      <td>...</td>\n",
       "    </tr>\n",
       "    <tr>\n",
       "      <th>3772</th>\n",
       "      <td>39.0</td>\n",
       "      <td>6.0</td>\n",
       "      <td>2.069908e+08</td>\n",
       "      <td>850</td>\n",
       "      <td>3.227265e+07</td>\n",
       "      <td>1.0</td>\n",
       "    </tr>\n",
       "    <tr>\n",
       "      <th>5191</th>\n",
       "      <td>40.0</td>\n",
       "      <td>3.0</td>\n",
       "      <td>2.568435e+08</td>\n",
       "      <td>540</td>\n",
       "      <td>3.105507e+08</td>\n",
       "      <td>1.0</td>\n",
       "    </tr>\n",
       "    <tr>\n",
       "      <th>5226</th>\n",
       "      <td>52.0</td>\n",
       "      <td>NaN</td>\n",
       "      <td>2.563461e+08</td>\n",
       "      <td>625</td>\n",
       "      <td>1.053311e+08</td>\n",
       "      <td>1.0</td>\n",
       "    </tr>\n",
       "    <tr>\n",
       "      <th>5390</th>\n",
       "      <td>44.0</td>\n",
       "      <td>9.0</td>\n",
       "      <td>1.559548e+08</td>\n",
       "      <td>690</td>\n",
       "      <td>5.491562e+07</td>\n",
       "      <td>2.0</td>\n",
       "    </tr>\n",
       "    <tr>\n",
       "      <th>860</th>\n",
       "      <td>36.0</td>\n",
       "      <td>2.0</td>\n",
       "      <td>2.030857e+08</td>\n",
       "      <td>612</td>\n",
       "      <td>1.205652e+08</td>\n",
       "      <td>NaN</td>\n",
       "    </tr>\n",
       "  </tbody>\n",
       "</table>\n",
       "<p>4900 rows × 6 columns</p>\n",
       "</div>"
      ],
      "text/plain": [
       "       age  tenure       balance  credit_score  estimated_salary  \\\n",
       "1612  51.0     9.0  1.718687e+08           665      1.729029e+06   \n",
       "978   36.0     3.0  1.164975e+08           580      1.880071e+07   \n",
       "3050  55.0     6.0  0.000000e+00           850      1.467443e+06   \n",
       "4960  45.0     4.0  1.592451e+08           668      2.460928e+08   \n",
       "2548  35.0     0.0  1.071457e+09           737      9.952247e+07   \n",
       "...    ...     ...           ...           ...               ...   \n",
       "3772  39.0     6.0  2.069908e+08           850      3.227265e+07   \n",
       "5191  40.0     3.0  2.568435e+08           540      3.105507e+08   \n",
       "5226  52.0     NaN  2.563461e+08           625      1.053311e+08   \n",
       "5390  44.0     9.0  1.559548e+08           690      5.491562e+07   \n",
       "860   36.0     2.0  2.030857e+08           612      1.205652e+08   \n",
       "\n",
       "      products_number  \n",
       "1612              2.0  \n",
       "978               1.0  \n",
       "3050              1.0  \n",
       "4960              2.0  \n",
       "2548              1.0  \n",
       "...               ...  \n",
       "3772              1.0  \n",
       "5191              1.0  \n",
       "5226              1.0  \n",
       "5390              2.0  \n",
       "860               NaN  \n",
       "\n",
       "[4900 rows x 6 columns]"
      ]
     },
     "execution_count": 30,
     "metadata": {},
     "output_type": "execute_result"
    }
   ],
   "source": [
    "train[num_cols]"
   ]
  },
  {
   "cell_type": "code",
   "execution_count": 31,
   "metadata": {},
   "outputs": [
    {
     "data": {
      "text/html": [
       "<div>\n",
       "<style scoped>\n",
       "    .dataframe tbody tr th:only-of-type {\n",
       "        vertical-align: middle;\n",
       "    }\n",
       "\n",
       "    .dataframe tbody tr th {\n",
       "        vertical-align: top;\n",
       "    }\n",
       "\n",
       "    .dataframe thead th {\n",
       "        text-align: right;\n",
       "    }\n",
       "</style>\n",
       "<table border=\"1\" class=\"dataframe\">\n",
       "  <thead>\n",
       "    <tr style=\"text-align: right;\">\n",
       "      <th></th>\n",
       "      <th>age</th>\n",
       "      <th>tenure</th>\n",
       "      <th>balance</th>\n",
       "      <th>credit_score</th>\n",
       "      <th>estimated_salary</th>\n",
       "      <th>products_number</th>\n",
       "    </tr>\n",
       "  </thead>\n",
       "  <tbody>\n",
       "    <tr>\n",
       "      <th>0</th>\n",
       "      <td>1.173383</td>\n",
       "      <td>1.390511</td>\n",
       "      <td>0.290274</td>\n",
       "      <td>0.152213</td>\n",
       "      <td>-1.128428</td>\n",
       "      <td>0.815593</td>\n",
       "    </tr>\n",
       "    <tr>\n",
       "      <th>1</th>\n",
       "      <td>-0.274314</td>\n",
       "      <td>-0.723405</td>\n",
       "      <td>-0.095402</td>\n",
       "      <td>-0.732017</td>\n",
       "      <td>-1.011945</td>\n",
       "      <td>-0.893003</td>\n",
       "    </tr>\n",
       "    <tr>\n",
       "      <th>2</th>\n",
       "      <td>1.559436</td>\n",
       "      <td>0.333553</td>\n",
       "      <td>-0.906838</td>\n",
       "      <td>2.076713</td>\n",
       "      <td>-1.130212</td>\n",
       "      <td>-0.893003</td>\n",
       "    </tr>\n",
       "    <tr>\n",
       "      <th>3</th>\n",
       "      <td>0.594304</td>\n",
       "      <td>-0.371086</td>\n",
       "      <td>0.202347</td>\n",
       "      <td>0.183421</td>\n",
       "      <td>0.538896</td>\n",
       "      <td>0.815593</td>\n",
       "    </tr>\n",
       "    <tr>\n",
       "      <th>4</th>\n",
       "      <td>-0.370827</td>\n",
       "      <td>-1.780363</td>\n",
       "      <td>6.556149</td>\n",
       "      <td>0.901208</td>\n",
       "      <td>-0.461171</td>\n",
       "      <td>-0.893003</td>\n",
       "    </tr>\n",
       "    <tr>\n",
       "      <th>...</th>\n",
       "      <td>...</td>\n",
       "      <td>...</td>\n",
       "      <td>...</td>\n",
       "      <td>...</td>\n",
       "      <td>...</td>\n",
       "      <td>...</td>\n",
       "    </tr>\n",
       "    <tr>\n",
       "      <th>4895</th>\n",
       "      <td>0.015225</td>\n",
       "      <td>0.333553</td>\n",
       "      <td>0.534908</td>\n",
       "      <td>2.076713</td>\n",
       "      <td>-0.920025</td>\n",
       "      <td>-0.893003</td>\n",
       "    </tr>\n",
       "    <tr>\n",
       "      <th>4896</th>\n",
       "      <td>0.111739</td>\n",
       "      <td>-0.723405</td>\n",
       "      <td>0.882146</td>\n",
       "      <td>-1.148125</td>\n",
       "      <td>0.978700</td>\n",
       "      <td>-0.893003</td>\n",
       "    </tr>\n",
       "    <tr>\n",
       "      <th>4897</th>\n",
       "      <td>1.269897</td>\n",
       "      <td>-0.018766</td>\n",
       "      <td>0.878682</td>\n",
       "      <td>-0.263895</td>\n",
       "      <td>-0.421538</td>\n",
       "      <td>-0.893003</td>\n",
       "    </tr>\n",
       "    <tr>\n",
       "      <th>4898</th>\n",
       "      <td>0.497791</td>\n",
       "      <td>1.390511</td>\n",
       "      <td>0.179429</td>\n",
       "      <td>0.412280</td>\n",
       "      <td>-0.765529</td>\n",
       "      <td>0.815593</td>\n",
       "    </tr>\n",
       "    <tr>\n",
       "      <th>4899</th>\n",
       "      <td>-0.274314</td>\n",
       "      <td>-1.075724</td>\n",
       "      <td>0.507709</td>\n",
       "      <td>-0.399131</td>\n",
       "      <td>-0.317594</td>\n",
       "      <td>-0.893003</td>\n",
       "    </tr>\n",
       "  </tbody>\n",
       "</table>\n",
       "<p>4900 rows × 6 columns</p>\n",
       "</div>"
      ],
      "text/plain": [
       "           age    tenure   balance  credit_score  estimated_salary  \\\n",
       "0     1.173383  1.390511  0.290274      0.152213         -1.128428   \n",
       "1    -0.274314 -0.723405 -0.095402     -0.732017         -1.011945   \n",
       "2     1.559436  0.333553 -0.906838      2.076713         -1.130212   \n",
       "3     0.594304 -0.371086  0.202347      0.183421          0.538896   \n",
       "4    -0.370827 -1.780363  6.556149      0.901208         -0.461171   \n",
       "...        ...       ...       ...           ...               ...   \n",
       "4895  0.015225  0.333553  0.534908      2.076713         -0.920025   \n",
       "4896  0.111739 -0.723405  0.882146     -1.148125          0.978700   \n",
       "4897  1.269897 -0.018766  0.878682     -0.263895         -0.421538   \n",
       "4898  0.497791  1.390511  0.179429      0.412280         -0.765529   \n",
       "4899 -0.274314 -1.075724  0.507709     -0.399131         -0.317594   \n",
       "\n",
       "      products_number  \n",
       "0            0.815593  \n",
       "1           -0.893003  \n",
       "2           -0.893003  \n",
       "3            0.815593  \n",
       "4           -0.893003  \n",
       "...               ...  \n",
       "4895        -0.893003  \n",
       "4896        -0.893003  \n",
       "4897        -0.893003  \n",
       "4898         0.815593  \n",
       "4899        -0.893003  \n",
       "\n",
       "[4900 rows x 6 columns]"
      ]
     },
     "execution_count": 31,
     "metadata": {},
     "output_type": "execute_result"
    }
   ],
   "source": [
    "num_pipe_result"
   ]
  },
  {
   "cell_type": "code",
   "execution_count": 32,
   "metadata": {},
   "outputs": [],
   "source": [
    "X_train = train.drop(columns = \"churn\")\n",
    "y_train = train[\"churn\"]\n",
    "X_test = test.drop(columns = \"churn\")\n",
    "y_test = test[\"churn\"]"
   ]
  },
  {
   "cell_type": "code",
   "execution_count": 33,
   "metadata": {},
   "outputs": [
    {
     "data": {
      "text/html": [
       "<div>\n",
       "<style scoped>\n",
       "    .dataframe tbody tr th:only-of-type {\n",
       "        vertical-align: middle;\n",
       "    }\n",
       "\n",
       "    .dataframe tbody tr th {\n",
       "        vertical-align: top;\n",
       "    }\n",
       "\n",
       "    .dataframe thead th {\n",
       "        text-align: right;\n",
       "    }\n",
       "</style>\n",
       "<table border=\"1\" class=\"dataframe\">\n",
       "  <thead>\n",
       "    <tr style=\"text-align: right;\">\n",
       "      <th></th>\n",
       "      <th>credit_score</th>\n",
       "      <th>country</th>\n",
       "      <th>gender</th>\n",
       "      <th>age</th>\n",
       "      <th>tenure</th>\n",
       "      <th>balance</th>\n",
       "      <th>products_number</th>\n",
       "      <th>credit_card</th>\n",
       "      <th>active_member</th>\n",
       "      <th>estimated_salary</th>\n",
       "    </tr>\n",
       "  </thead>\n",
       "  <tbody>\n",
       "    <tr>\n",
       "      <th>1612</th>\n",
       "      <td>665</td>\n",
       "      <td>Jawa Barat</td>\n",
       "      <td>Female</td>\n",
       "      <td>51.0</td>\n",
       "      <td>9.0</td>\n",
       "      <td>1.718687e+08</td>\n",
       "      <td>2.0</td>\n",
       "      <td>0.0</td>\n",
       "      <td>1.0</td>\n",
       "      <td>1.729029e+06</td>\n",
       "    </tr>\n",
       "    <tr>\n",
       "      <th>978</th>\n",
       "      <td>580</td>\n",
       "      <td>Jawa Barat</td>\n",
       "      <td>Female</td>\n",
       "      <td>36.0</td>\n",
       "      <td>3.0</td>\n",
       "      <td>1.164975e+08</td>\n",
       "      <td>1.0</td>\n",
       "      <td>1.0</td>\n",
       "      <td>1.0</td>\n",
       "      <td>1.880071e+07</td>\n",
       "    </tr>\n",
       "    <tr>\n",
       "      <th>3050</th>\n",
       "      <td>850</td>\n",
       "      <td>Jawa Timur</td>\n",
       "      <td>Male</td>\n",
       "      <td>55.0</td>\n",
       "      <td>6.0</td>\n",
       "      <td>0.000000e+00</td>\n",
       "      <td>1.0</td>\n",
       "      <td>1.0</td>\n",
       "      <td>0.0</td>\n",
       "      <td>1.467443e+06</td>\n",
       "    </tr>\n",
       "    <tr>\n",
       "      <th>4960</th>\n",
       "      <td>668</td>\n",
       "      <td>Jawa Tengah</td>\n",
       "      <td>Male</td>\n",
       "      <td>45.0</td>\n",
       "      <td>4.0</td>\n",
       "      <td>1.592451e+08</td>\n",
       "      <td>2.0</td>\n",
       "      <td>1.0</td>\n",
       "      <td>1.0</td>\n",
       "      <td>2.460928e+08</td>\n",
       "    </tr>\n",
       "    <tr>\n",
       "      <th>2548</th>\n",
       "      <td>737</td>\n",
       "      <td>jawabarat</td>\n",
       "      <td>Male</td>\n",
       "      <td>35.0</td>\n",
       "      <td>0.0</td>\n",
       "      <td>1.071457e+09</td>\n",
       "      <td>1.0</td>\n",
       "      <td>0.0</td>\n",
       "      <td>1.0</td>\n",
       "      <td>9.952247e+07</td>\n",
       "    </tr>\n",
       "  </tbody>\n",
       "</table>\n",
       "</div>"
      ],
      "text/plain": [
       "      credit_score      country  gender   age  tenure       balance  \\\n",
       "1612           665   Jawa Barat  Female  51.0     9.0  1.718687e+08   \n",
       "978            580   Jawa Barat  Female  36.0     3.0  1.164975e+08   \n",
       "3050           850   Jawa Timur    Male  55.0     6.0  0.000000e+00   \n",
       "4960           668  Jawa Tengah    Male  45.0     4.0  1.592451e+08   \n",
       "2548           737    jawabarat    Male  35.0     0.0  1.071457e+09   \n",
       "\n",
       "      products_number  credit_card  active_member  estimated_salary  \n",
       "1612              2.0          0.0            1.0      1.729029e+06  \n",
       "978               1.0          1.0            1.0      1.880071e+07  \n",
       "3050              1.0          1.0            0.0      1.467443e+06  \n",
       "4960              2.0          1.0            1.0      2.460928e+08  \n",
       "2548              1.0          0.0            1.0      9.952247e+07  "
      ]
     },
     "execution_count": 33,
     "metadata": {},
     "output_type": "execute_result"
    }
   ],
   "source": [
    "df_prepocessed = X_train.copy()\n",
    "df_prepocessed = df_prepocessed.drop(columns = \"customer_id\", axis=1)\n",
    "df_prepocessed.head()"
   ]
  },
  {
   "cell_type": "markdown",
   "metadata": {},
   "source": [
    "### Cleaning Format yang tidak Konsisten"
   ]
  },
  {
   "cell_type": "code",
   "execution_count": 34,
   "metadata": {},
   "outputs": [
    {
     "data": {
      "text/plain": [
       "country\n",
       "Jawa Timur     460\n",
       "Jawa Barat     238\n",
       "Jawa Tengah    228\n",
       "Name: count, dtype: int64"
      ]
     },
     "execution_count": 34,
     "metadata": {},
     "output_type": "execute_result"
    }
   ],
   "source": [
    "mapping = {'jatim':'Jawa Timur',\n",
    "           'jawatimur':'Jawa Timur',\n",
    "           'jawatengah':'Jawa Tengah',\n",
    "           'jawabarat':'Jawa Barat',\n",
    "           'jabar':'Jawa Barat',\n",
    "           'jateng':'Jawa Tengah'}\n",
    "\n",
    "df_prepocessed[\"country\"] = df_prepocessed[\"country\"].map(mapping)\n",
    "\n",
    "df_prepocessed.country.value_counts()"
   ]
  },
  {
   "cell_type": "markdown",
   "metadata": {},
   "source": [
    "### Mengatasi Missing Value"
   ]
  },
  {
   "cell_type": "code",
   "execution_count": 36,
   "metadata": {},
   "outputs": [],
   "source": [
    "from sklearn.impute import SimpleImputer"
   ]
  },
  {
   "cell_type": "markdown",
   "metadata": {},
   "source": [
    "#### Kolom Kategorik"
   ]
  },
  {
   "cell_type": "code",
   "execution_count": 37,
   "metadata": {},
   "outputs": [
    {
     "name": "stdout",
     "output_type": "stream",
     "text": [
      "country    0\n",
      "gender     0\n",
      "dtype: int64\n"
     ]
    }
   ],
   "source": [
    "cat_imputer = SimpleImputer(missing_values=np.nan, strategy='most_frequent')\n",
    "df_prepocessed[cat_cols] = cat_imputer.fit_transform(df_prepocessed[cat_cols])\n",
    "print(df_prepocessed[cat_cols].isna().sum())"
   ]
  },
  {
   "cell_type": "markdown",
   "metadata": {},
   "source": [
    "#### Kolom Binary"
   ]
  },
  {
   "cell_type": "code",
   "execution_count": 38,
   "metadata": {},
   "outputs": [
    {
     "name": "stdout",
     "output_type": "stream",
     "text": [
      "credit_card      0\n",
      "active_member    0\n",
      "dtype: int64\n"
     ]
    }
   ],
   "source": [
    "bin_imputer = SimpleImputer(missing_values=np.nan, strategy='most_frequent')\n",
    "df_prepocessed[bin_cols] = bin_imputer.fit_transform(df_prepocessed[bin_cols])\n",
    "print(df_prepocessed[bin_cols].isna().sum())"
   ]
  },
  {
   "cell_type": "markdown",
   "metadata": {},
   "source": [
    "#### Kolom Numerik"
   ]
  },
  {
   "cell_type": "markdown",
   "metadata": {},
   "source": [
    "-> Input MEAN"
   ]
  },
  {
   "cell_type": "code",
   "execution_count": 39,
   "metadata": {},
   "outputs": [
    {
     "name": "stdout",
     "output_type": "stream",
     "text": [
      "tenure          0\n",
      "credit_score    0\n",
      "dtype: int64\n"
     ]
    }
   ],
   "source": [
    "num_imputer_mean = SimpleImputer(missing_values=np.nan, strategy='mean')\n",
    "df_prepocessed[['tenure', 'credit_score']] = num_imputer_mean.fit_transform(df_prepocessed[['tenure', 'credit_score']])\n",
    "print(df_prepocessed[['tenure', 'credit_score']].isna().sum())"
   ]
  },
  {
   "cell_type": "markdown",
   "metadata": {},
   "source": [
    "-> Input MEDIAN"
   ]
  },
  {
   "cell_type": "code",
   "execution_count": 40,
   "metadata": {},
   "outputs": [
    {
     "name": "stdout",
     "output_type": "stream",
     "text": [
      "age                 0\n",
      "balance             0\n",
      "estimated_salary    0\n",
      "age                 0\n",
      "dtype: int64\n"
     ]
    }
   ],
   "source": [
    "num_imputer_median = SimpleImputer(missing_values=np.nan, strategy='median')\n",
    "df_prepocessed[['age', 'balance', 'estimated_salary', 'age']] = num_imputer_mean.fit_transform(df_prepocessed[['age', 'balance', 'estimated_salary', 'age']])\n",
    "print(df_prepocessed[['age', 'balance', 'estimated_salary', 'age']].isna().sum())"
   ]
  },
  {
   "cell_type": "code",
   "execution_count": 41,
   "metadata": {},
   "outputs": [
    {
     "data": {
      "text/plain": [
       "<Axes: >"
      ]
     },
     "execution_count": 41,
     "metadata": {},
     "output_type": "execute_result"
    },
    {
     "data": {
      "image/png": "[encoded data removed]",
      "text/plain": [
       "<Figure size 2500x1000 with 2 Axes>"
      ]
     },
     "metadata": {},
     "output_type": "display_data"
    }
   ],
   "source": [
    "msno.matrix(df_prepocessed)"
   ]
  },
  {
   "cell_type": "markdown",
   "metadata": {},
   "source": [
    "## Transformer Kolom"
   ]
  },
  {
   "cell_type": "code",
   "execution_count": 42,
   "metadata": {},
   "outputs": [],
   "source": [
    "preprocessed_X_train = preprocessor.fit_transform(X_train)\n",
    "preprocessed_X_train = pd.DataFrame(preprocessed_X_train, columns = [x.split(\"_\")[-1] for x in preprocessor.get_feature_names_out()])"
   ]
  },
  {
   "cell_type": "code",
   "execution_count": 43,
   "metadata": {},
   "outputs": [
    {
     "data": {
      "text/plain": [
       "churn\n",
       "0    3880\n",
       "1    1020\n",
       "Name: count, dtype: int64"
      ]
     },
     "execution_count": 43,
     "metadata": {},
     "output_type": "execute_result"
    }
   ],
   "source": [
    "y_train.value_counts()"
   ]
  },
  {
   "cell_type": "code",
   "execution_count": 44,
   "metadata": {},
   "outputs": [
    {
     "data": {
      "text/html": [
       "<div>\n",
       "<style scoped>\n",
       "    .dataframe tbody tr th:only-of-type {\n",
       "        vertical-align: middle;\n",
       "    }\n",
       "\n",
       "    .dataframe tbody tr th {\n",
       "        vertical-align: top;\n",
       "    }\n",
       "\n",
       "    .dataframe thead th {\n",
       "        text-align: right;\n",
       "    }\n",
       "</style>\n",
       "<table border=\"1\" class=\"dataframe\">\n",
       "  <thead>\n",
       "    <tr style=\"text-align: right;\">\n",
       "      <th></th>\n",
       "      <th>Jawa Barat</th>\n",
       "      <th>Jawa Tengah</th>\n",
       "      <th>Jawa Timur</th>\n",
       "      <th>jabar</th>\n",
       "      <th>jateng</th>\n",
       "      <th>jatim</th>\n",
       "      <th>jawabarat</th>\n",
       "      <th>jawatengah</th>\n",
       "      <th>jawatimur</th>\n",
       "      <th>Female</th>\n",
       "      <th>Male</th>\n",
       "      <th>card</th>\n",
       "      <th>member</th>\n",
       "      <th>age</th>\n",
       "      <th>tenure</th>\n",
       "      <th>balance</th>\n",
       "      <th>score</th>\n",
       "      <th>salary</th>\n",
       "      <th>number</th>\n",
       "    </tr>\n",
       "  </thead>\n",
       "  <tbody>\n",
       "    <tr>\n",
       "      <th>0</th>\n",
       "      <td>1.0</td>\n",
       "      <td>0.0</td>\n",
       "      <td>0.0</td>\n",
       "      <td>0.0</td>\n",
       "      <td>0.0</td>\n",
       "      <td>0.0</td>\n",
       "      <td>0.0</td>\n",
       "      <td>0.0</td>\n",
       "      <td>0.0</td>\n",
       "      <td>1.0</td>\n",
       "      <td>0.0</td>\n",
       "      <td>0.0</td>\n",
       "      <td>1.0</td>\n",
       "      <td>1.173383</td>\n",
       "      <td>1.390511</td>\n",
       "      <td>0.290274</td>\n",
       "      <td>0.152213</td>\n",
       "      <td>-1.128428</td>\n",
       "      <td>0.815593</td>\n",
       "    </tr>\n",
       "    <tr>\n",
       "      <th>1</th>\n",
       "      <td>1.0</td>\n",
       "      <td>0.0</td>\n",
       "      <td>0.0</td>\n",
       "      <td>0.0</td>\n",
       "      <td>0.0</td>\n",
       "      <td>0.0</td>\n",
       "      <td>0.0</td>\n",
       "      <td>0.0</td>\n",
       "      <td>0.0</td>\n",
       "      <td>1.0</td>\n",
       "      <td>0.0</td>\n",
       "      <td>1.0</td>\n",
       "      <td>1.0</td>\n",
       "      <td>-0.274314</td>\n",
       "      <td>-0.723405</td>\n",
       "      <td>-0.095402</td>\n",
       "      <td>-0.732017</td>\n",
       "      <td>-1.011945</td>\n",
       "      <td>-0.893003</td>\n",
       "    </tr>\n",
       "    <tr>\n",
       "      <th>2</th>\n",
       "      <td>0.0</td>\n",
       "      <td>0.0</td>\n",
       "      <td>1.0</td>\n",
       "      <td>0.0</td>\n",
       "      <td>0.0</td>\n",
       "      <td>0.0</td>\n",
       "      <td>0.0</td>\n",
       "      <td>0.0</td>\n",
       "      <td>0.0</td>\n",
       "      <td>0.0</td>\n",
       "      <td>1.0</td>\n",
       "      <td>1.0</td>\n",
       "      <td>0.0</td>\n",
       "      <td>1.559436</td>\n",
       "      <td>0.333553</td>\n",
       "      <td>-0.906838</td>\n",
       "      <td>2.076713</td>\n",
       "      <td>-1.130212</td>\n",
       "      <td>-0.893003</td>\n",
       "    </tr>\n",
       "    <tr>\n",
       "      <th>3</th>\n",
       "      <td>0.0</td>\n",
       "      <td>1.0</td>\n",
       "      <td>0.0</td>\n",
       "      <td>0.0</td>\n",
       "      <td>0.0</td>\n",
       "      <td>0.0</td>\n",
       "      <td>0.0</td>\n",
       "      <td>0.0</td>\n",
       "      <td>0.0</td>\n",
       "      <td>0.0</td>\n",
       "      <td>1.0</td>\n",
       "      <td>1.0</td>\n",
       "      <td>1.0</td>\n",
       "      <td>0.594304</td>\n",
       "      <td>-0.371086</td>\n",
       "      <td>0.202347</td>\n",
       "      <td>0.183421</td>\n",
       "      <td>0.538896</td>\n",
       "      <td>0.815593</td>\n",
       "    </tr>\n",
       "    <tr>\n",
       "      <th>4</th>\n",
       "      <td>0.0</td>\n",
       "      <td>0.0</td>\n",
       "      <td>0.0</td>\n",
       "      <td>0.0</td>\n",
       "      <td>0.0</td>\n",
       "      <td>0.0</td>\n",
       "      <td>1.0</td>\n",
       "      <td>0.0</td>\n",
       "      <td>0.0</td>\n",
       "      <td>0.0</td>\n",
       "      <td>1.0</td>\n",
       "      <td>0.0</td>\n",
       "      <td>1.0</td>\n",
       "      <td>-0.370827</td>\n",
       "      <td>-1.780363</td>\n",
       "      <td>6.556149</td>\n",
       "      <td>0.901208</td>\n",
       "      <td>-0.461171</td>\n",
       "      <td>-0.893003</td>\n",
       "    </tr>\n",
       "    <tr>\n",
       "      <th>...</th>\n",
       "      <td>...</td>\n",
       "      <td>...</td>\n",
       "      <td>...</td>\n",
       "      <td>...</td>\n",
       "      <td>...</td>\n",
       "      <td>...</td>\n",
       "      <td>...</td>\n",
       "      <td>...</td>\n",
       "      <td>...</td>\n",
       "      <td>...</td>\n",
       "      <td>...</td>\n",
       "      <td>...</td>\n",
       "      <td>...</td>\n",
       "      <td>...</td>\n",
       "      <td>...</td>\n",
       "      <td>...</td>\n",
       "      <td>...</td>\n",
       "      <td>...</td>\n",
       "      <td>...</td>\n",
       "    </tr>\n",
       "    <tr>\n",
       "      <th>4895</th>\n",
       "      <td>0.0</td>\n",
       "      <td>0.0</td>\n",
       "      <td>0.0</td>\n",
       "      <td>0.0</td>\n",
       "      <td>1.0</td>\n",
       "      <td>0.0</td>\n",
       "      <td>0.0</td>\n",
       "      <td>0.0</td>\n",
       "      <td>0.0</td>\n",
       "      <td>0.0</td>\n",
       "      <td>1.0</td>\n",
       "      <td>0.0</td>\n",
       "      <td>1.0</td>\n",
       "      <td>0.015225</td>\n",
       "      <td>0.333553</td>\n",
       "      <td>0.534908</td>\n",
       "      <td>2.076713</td>\n",
       "      <td>-0.920025</td>\n",
       "      <td>-0.893003</td>\n",
       "    </tr>\n",
       "    <tr>\n",
       "      <th>4896</th>\n",
       "      <td>0.0</td>\n",
       "      <td>0.0</td>\n",
       "      <td>1.0</td>\n",
       "      <td>0.0</td>\n",
       "      <td>0.0</td>\n",
       "      <td>0.0</td>\n",
       "      <td>0.0</td>\n",
       "      <td>0.0</td>\n",
       "      <td>0.0</td>\n",
       "      <td>1.0</td>\n",
       "      <td>0.0</td>\n",
       "      <td>0.0</td>\n",
       "      <td>1.0</td>\n",
       "      <td>0.111739</td>\n",
       "      <td>-0.723405</td>\n",
       "      <td>0.882146</td>\n",
       "      <td>-1.148125</td>\n",
       "      <td>0.978700</td>\n",
       "      <td>-0.893003</td>\n",
       "    </tr>\n",
       "    <tr>\n",
       "      <th>4897</th>\n",
       "      <td>0.0</td>\n",
       "      <td>0.0</td>\n",
       "      <td>0.0</td>\n",
       "      <td>0.0</td>\n",
       "      <td>0.0</td>\n",
       "      <td>0.0</td>\n",
       "      <td>0.0</td>\n",
       "      <td>0.0</td>\n",
       "      <td>1.0</td>\n",
       "      <td>0.0</td>\n",
       "      <td>1.0</td>\n",
       "      <td>1.0</td>\n",
       "      <td>1.0</td>\n",
       "      <td>1.269897</td>\n",
       "      <td>-0.018766</td>\n",
       "      <td>0.878682</td>\n",
       "      <td>-0.263895</td>\n",
       "      <td>-0.421538</td>\n",
       "      <td>-0.893003</td>\n",
       "    </tr>\n",
       "    <tr>\n",
       "      <th>4898</th>\n",
       "      <td>1.0</td>\n",
       "      <td>0.0</td>\n",
       "      <td>0.0</td>\n",
       "      <td>0.0</td>\n",
       "      <td>0.0</td>\n",
       "      <td>0.0</td>\n",
       "      <td>0.0</td>\n",
       "      <td>0.0</td>\n",
       "      <td>0.0</td>\n",
       "      <td>0.0</td>\n",
       "      <td>1.0</td>\n",
       "      <td>0.0</td>\n",
       "      <td>0.0</td>\n",
       "      <td>0.497791</td>\n",
       "      <td>1.390511</td>\n",
       "      <td>0.179429</td>\n",
       "      <td>0.412280</td>\n",
       "      <td>-0.765529</td>\n",
       "      <td>0.815593</td>\n",
       "    </tr>\n",
       "    <tr>\n",
       "      <th>4899</th>\n",
       "      <td>1.0</td>\n",
       "      <td>0.0</td>\n",
       "      <td>0.0</td>\n",
       "      <td>0.0</td>\n",
       "      <td>0.0</td>\n",
       "      <td>0.0</td>\n",
       "      <td>0.0</td>\n",
       "      <td>0.0</td>\n",
       "      <td>0.0</td>\n",
       "      <td>1.0</td>\n",
       "      <td>0.0</td>\n",
       "      <td>0.0</td>\n",
       "      <td>0.0</td>\n",
       "      <td>-0.274314</td>\n",
       "      <td>-1.075724</td>\n",
       "      <td>0.507709</td>\n",
       "      <td>-0.399131</td>\n",
       "      <td>-0.317594</td>\n",
       "      <td>-0.893003</td>\n",
       "    </tr>\n",
       "  </tbody>\n",
       "</table>\n",
       "<p>4900 rows × 19 columns</p>\n",
       "</div>"
      ],
      "text/plain": [
       "      Jawa Barat  Jawa Tengah  Jawa Timur  jabar  jateng  jatim  jawabarat  \\\n",
       "0            1.0          0.0         0.0    0.0     0.0    0.0        0.0   \n",
       "1            1.0          0.0         0.0    0.0     0.0    0.0        0.0   \n",
       "2            0.0          0.0         1.0    0.0     0.0    0.0        0.0   \n",
       "3            0.0          1.0         0.0    0.0     0.0    0.0        0.0   \n",
       "4            0.0          0.0         0.0    0.0     0.0    0.0        1.0   \n",
       "...          ...          ...         ...    ...     ...    ...        ...   \n",
       "4895         0.0          0.0         0.0    0.0     1.0    0.0        0.0   \n",
       "4896         0.0          0.0         1.0    0.0     0.0    0.0        0.0   \n",
       "4897         0.0          0.0         0.0    0.0     0.0    0.0        0.0   \n",
       "4898         1.0          0.0         0.0    0.0     0.0    0.0        0.0   \n",
       "4899         1.0          0.0         0.0    0.0     0.0    0.0        0.0   \n",
       "\n",
       "      jawatengah  jawatimur  Female  Male  card  member       age    tenure  \\\n",
       "0            0.0        0.0     1.0   0.0   0.0     1.0  1.173383  1.390511   \n",
       "1            0.0        0.0     1.0   0.0   1.0     1.0 -0.274314 -0.723405   \n",
       "2            0.0        0.0     0.0   1.0   1.0     0.0  1.559436  0.333553   \n",
       "3            0.0        0.0     0.0   1.0   1.0     1.0  0.594304 -0.371086   \n",
       "4            0.0        0.0     0.0   1.0   0.0     1.0 -0.370827 -1.780363   \n",
       "...          ...        ...     ...   ...   ...     ...       ...       ...   \n",
       "4895         0.0        0.0     0.0   1.0   0.0     1.0  0.015225  0.333553   \n",
       "4896         0.0        0.0     1.0   0.0   0.0     1.0  0.111739 -0.723405   \n",
       "4897         0.0        1.0     0.0   1.0   1.0     1.0  1.269897 -0.018766   \n",
       "4898         0.0        0.0     0.0   1.0   0.0     0.0  0.497791  1.390511   \n",
       "4899         0.0        0.0     1.0   0.0   0.0     0.0 -0.274314 -1.075724   \n",
       "\n",
       "       balance     score    salary    number  \n",
       "0     0.290274  0.152213 -1.128428  0.815593  \n",
       "1    -0.095402 -0.732017 -1.011945 -0.893003  \n",
       "2    -0.906838  2.076713 -1.130212 -0.893003  \n",
       "3     0.202347  0.183421  0.538896  0.815593  \n",
       "4     6.556149  0.901208 -0.461171 -0.893003  \n",
       "...        ...       ...       ...       ...  \n",
       "4895  0.534908  2.076713 -0.920025 -0.893003  \n",
       "4896  0.882146 -1.148125  0.978700 -0.893003  \n",
       "4897  0.878682 -0.263895 -0.421538 -0.893003  \n",
       "4898  0.179429  0.412280 -0.765529  0.815593  \n",
       "4899  0.507709 -0.399131 -0.317594 -0.893003  \n",
       "\n",
       "[4900 rows x 19 columns]"
      ]
     },
     "execution_count": 44,
     "metadata": {},
     "output_type": "execute_result"
    }
   ],
   "source": [
    "preprocessed_X_train"
   ]
  },
  {
   "cell_type": "markdown",
   "metadata": {},
   "source": [
    "## SMOTE Oversampling"
   ]
  },
  {
   "cell_type": "code",
   "execution_count": 46,
   "metadata": {},
   "outputs": [],
   "source": [
    "from imblearn.over_sampling import SMOTE\n",
    "sm = SMOTE(sampling_strategy=\"minority\", random_state=42)\n",
    "x_train_smote, y_train_smote= sm.fit_resample(preprocessed_X_train, y_train)"
   ]
  },
  {
   "cell_type": "code",
   "execution_count": 47,
   "metadata": {},
   "outputs": [
    {
     "data": {
      "text/plain": [
       "churn\n",
       "1    3880\n",
       "0    3880\n",
       "Name: count, dtype: int64"
      ]
     },
     "execution_count": 47,
     "metadata": {},
     "output_type": "execute_result"
    }
   ],
   "source": [
    "y_train_smote.value_counts()"
   ]
  },
  {
   "cell_type": "markdown",
   "metadata": {},
   "source": [
    "## Pemodelan"
   ]
  },
  {
   "cell_type": "markdown",
   "metadata": {},
   "source": [
    "### Model 1. Gradient Boosting Classifier"
   ]
  },
  {
   "cell_type": "code",
   "execution_count": 48,
   "metadata": {},
   "outputs": [],
   "source": [
    "weights = y_train_smote.replace(1,10).replace(0,1).values.tolist()"
   ]
  },
  {
   "cell_type": "code",
   "execution_count": 49,
   "metadata": {},
   "outputs": [
    {
     "name": "stderr",
     "output_type": "stream",
     "text": [
      "c:\\Users\\User\\AppData\\Local\\Programs\\Python\\Python312\\Lib\\site-packages\\sklearn\\base.py:465: UserWarning: X does not have valid feature names, but GradientBoostingClassifier was fitted with feature names\n",
      "  warnings.warn(\n"
     ]
    },
    {
     "name": "stdout",
     "output_type": "stream",
     "text": [
      "Accuracy:[0.49666666666666665]\n",
      "F1-Score:[0.4065131948343627]\n",
      "Precision:[0.9282051282051282]\n",
      "Recall:[0.26024442846872753]\n",
      "-------------------------------\n",
      "Classifiaction Report\n",
      "-------------------------------\n",
      "              precision    recall  f1-score   support\n",
      "\n",
      "           0      0.961     0.398     0.563      1710\n",
      "           1      0.260     0.928     0.407       390\n",
      "\n",
      "    accuracy                          0.497      2100\n",
      "   macro avg      0.610     0.663     0.485      2100\n",
      "weighted avg      0.830     0.497     0.534      2100\n",
      "\n",
      "Confusion_Matrix\n"
     ]
    },
    {
     "data": {
      "image/png": "[encoded data removed]",
      "text/plain": [
       "<Figure size 640x480 with 2 Axes>"
      ]
     },
     "metadata": {},
     "output_type": "display_data"
    }
   ],
   "source": [
    "preprocessed_x_test = preprocessor.transform(X_test)\n",
    "\n",
    "gbc=GradientBoostingClassifier()\n",
    "gbc.fit(x_train_smote,y_train_smote, sample_weight = weights)\n",
    "y_pred= gbc.predict(preprocessed_x_test)\n",
    "\n",
    "accuracy_scores=[]\n",
    "f1_scores=[]\n",
    "precision_scores=[]\n",
    "recall_scores=[]\n",
    "\n",
    "\n",
    "accuracy_scores.append(accuracy_score(y_pred, y_test))\n",
    "f1_scores.append(f1_score(y_pred, y_test))\n",
    "precision_scores.append(precision_score(y_pred, y_test))\n",
    "recall_scores.append(recall_score(y_pred, y_test))\n",
    "\n",
    "\n",
    "\n",
    "# Print the Results\n",
    "print(f\"Accuracy:{accuracy_scores}\")\n",
    "print(f\"F1-Score:{f1_scores}\")\n",
    "print(f\"Precision:{precision_scores}\")\n",
    "print(f\"Recall:{recall_scores}\")\n",
    "\n",
    "print(\"-------------------------------\")\n",
    "print(\"Classifiaction Report\")\n",
    "print(\"-------------------------------\")\n",
    "print(classification_report(y_test,y_pred,digits=3))\n",
    "print(\"Confusion_Matrix\")\n",
    "ConfusionMatrixDisplay.from_predictions(y_test,y_pred,cmap=\"Greens\")\n",
    "plt.show()"
   ]
  },
  {
   "cell_type": "markdown",
   "metadata": {},
   "source": [
    "## Train di seluruh training data"
   ]
  },
  {
   "cell_type": "code",
   "execution_count": 50,
   "metadata": {},
   "outputs": [
    {
     "data": {
      "text/html": [
       "<style>#sk-container-id-1 {color: black;}#sk-container-id-1 pre{padding: 0;}#sk-container-id-1 div.sk-toggleable {background-color: white;}#sk-container-id-1 label.sk-toggleable__label {cursor: pointer;display: block;width: 100%;margin-bottom: 0;padding: 0.3em;box-sizing: border-box;text-align: center;}#sk-container-id-1 label.sk-toggleable__label-arrow:before {content: \"▸\";float: left;margin-right: 0.25em;color: #696969;}#sk-container-id-1 label.sk-toggleable__label-arrow:hover:before {color: black;}#sk-container-id-1 div.sk-estimator:hover label.sk-toggleable__label-arrow:before {color: black;}#sk-container-id-1 div.sk-toggleable__content {max-height: 0;max-width: 0;overflow: hidden;text-align: left;background-color: #f0f8ff;}#sk-container-id-1 div.sk-toggleable__content pre {margin: 0.2em;color: black;border-radius: 0.25em;background-color: #f0f8ff;}#sk-container-id-1 input.sk-toggleable__control:checked~div.sk-toggleable__content {max-height: 200px;max-width: 100%;overflow: auto;}#sk-container-id-1 input.sk-toggleable__control:checked~label.sk-toggleable__label-arrow:before {content: \"▾\";}#sk-container-id-1 div.sk-estimator input.sk-toggleable__control:checked~label.sk-toggleable__label {background-color: #d4ebff;}#sk-container-id-1 div.sk-label input.sk-toggleable__control:checked~label.sk-toggleable__label {background-color: #d4ebff;}#sk-container-id-1 input.sk-hidden--visually {border: 0;clip: rect(1px 1px 1px 1px);clip: rect(1px, 1px, 1px, 1px);height: 1px;margin: -1px;overflow: hidden;padding: 0;position: absolute;width: 1px;}#sk-container-id-1 div.sk-estimator {font-family: monospace;background-color: #f0f8ff;border: 1px dotted black;border-radius: 0.25em;box-sizing: border-box;margin-bottom: 0.5em;}#sk-container-id-1 div.sk-estimator:hover {background-color: #d4ebff;}#sk-container-id-1 div.sk-parallel-item::after {content: \"\";width: 100%;border-bottom: 1px solid gray;flex-grow: 1;}#sk-container-id-1 div.sk-label:hover label.sk-toggleable__label {background-color: #d4ebff;}#sk-container-id-1 div.sk-serial::before {content: \"\";position: absolute;border-left: 1px solid gray;box-sizing: border-box;top: 0;bottom: 0;left: 50%;z-index: 0;}#sk-container-id-1 div.sk-serial {display: flex;flex-direction: column;align-items: center;background-color: white;padding-right: 0.2em;padding-left: 0.2em;position: relative;}#sk-container-id-1 div.sk-item {position: relative;z-index: 1;}#sk-container-id-1 div.sk-parallel {display: flex;align-items: stretch;justify-content: center;background-color: white;position: relative;}#sk-container-id-1 div.sk-item::before, #sk-container-id-1 div.sk-parallel-item::before {content: \"\";position: absolute;border-left: 1px solid gray;box-sizing: border-box;top: 0;bottom: 0;left: 50%;z-index: -1;}#sk-container-id-1 div.sk-parallel-item {display: flex;flex-direction: column;z-index: 1;position: relative;background-color: white;}#sk-container-id-1 div.sk-parallel-item:first-child::after {align-self: flex-end;width: 50%;}#sk-container-id-1 div.sk-parallel-item:last-child::after {align-self: flex-start;width: 50%;}#sk-container-id-1 div.sk-parallel-item:only-child::after {width: 0;}#sk-container-id-1 div.sk-dashed-wrapped {border: 1px dashed gray;margin: 0 0.4em 0.5em 0.4em;box-sizing: border-box;padding-bottom: 0.4em;background-color: white;}#sk-container-id-1 div.sk-label label {font-family: monospace;font-weight: bold;display: inline-block;line-height: 1.2em;}#sk-container-id-1 div.sk-label-container {text-align: center;}#sk-container-id-1 div.sk-container {/* jupyter's `normalize.less` sets `[hidden] { display: none; }` but bootstrap.min.css set `[hidden] { display: none !important; }` so we also need the `!important` here to be able to override the default hidden behavior on the sphinx rendered scikit-learn.org. See: https://github.com/scikit-learn/scikit-learn/issues/21755 */display: inline-block !important;position: relative;}#sk-container-id-1 div.sk-text-repr-fallback {display: none;}</style><div id=\"sk-container-id-1\" class=\"sk-top-container\"><div class=\"sk-text-repr-fallback\"><pre>GradientBoostingClassifier()</pre><b>In a Jupyter environment, please rerun this cell to show the HTML representation or trust the notebook. <br />On GitHub, the HTML representation is unable to render, please try loading this page with nbviewer.org.</b></div><div class=\"sk-container\" hidden><div class=\"sk-item\"><div class=\"sk-estimator sk-toggleable\"><input class=\"sk-toggleable__control sk-hidden--visually\" id=\"sk-estimator-id-1\" type=\"checkbox\" checked><label for=\"sk-estimator-id-1\" class=\"sk-toggleable__label sk-toggleable__label-arrow\">GradientBoostingClassifier</label><div class=\"sk-toggleable__content\"><pre>GradientBoostingClassifier()</pre></div></div></div></div></div>"
      ],
      "text/plain": [
       "GradientBoostingClassifier()"
      ]
     },
     "execution_count": 50,
     "metadata": {},
     "output_type": "execute_result"
    }
   ],
   "source": [
    "gbc.fit(preprocessor.fit_transform(train_df.drop(columns='churn')), train_df['churn'])"
   ]
  },
  {
   "cell_type": "markdown",
   "metadata": {},
   "source": [
    "## Output"
   ]
  },
  {
   "cell_type": "code",
   "execution_count": 51,
   "metadata": {},
   "outputs": [],
   "source": [
    "df_submisi = test_df[[\"customer_id\"]].copy()"
   ]
  },
  {
   "cell_type": "code",
   "execution_count": 52,
   "metadata": {},
   "outputs": [],
   "source": [
    "test_df_preprocessed = preprocessor.transform(test_df)\n",
    "df_submisi['churn'] = gbc.predict(test_df_preprocessed)"
   ]
  },
  {
   "cell_type": "code",
   "execution_count": 53,
   "metadata": {},
   "outputs": [],
   "source": [
    "df_submisi.to_csv('D:/Kuliah UNAIR/Projek Aby/2 Projek (Customer Churn Prediction)/submisi_iris_doa_ibu.csv', index=False)"
   ]
  }
 ],
 "metadata": {
  "kernelspec": {
   "display_name": "Python 3",
   "language": "python",
   "name": "python3"
  },
  "language_info": {
   "codemirror_mode": {
    "name": "ipython",
    "version": 3
   },
   "file_extension": ".py",
   "mimetype": "text/x-python",
   "name": "python",
   "nbconvert_exporter": "python",
   "pygments_lexer": "ipython3",
   "version": "3.12.0"
  }
 },
 "nbformat": 4,
 "nbformat_minor": 2
}
